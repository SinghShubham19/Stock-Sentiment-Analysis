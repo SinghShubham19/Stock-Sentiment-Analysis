{
 "cells": [
  {
   "cell_type": "code",
   "execution_count": 147,
   "id": "f8236691",
   "metadata": {},
   "outputs": [],
   "source": [
    "import pandas as pd"
   ]
  },
  {
   "cell_type": "code",
   "execution_count": 148,
   "id": "1eb7e075",
   "metadata": {},
   "outputs": [],
   "source": [
    "df=pd.read_csv('Data.csv', encoding = \"ISO-8859-1\")"
   ]
  },
  {
   "cell_type": "code",
   "execution_count": 149,
   "id": "c4620747",
   "metadata": {},
   "outputs": [
    {
     "data": {
      "text/html": [
       "<div>\n",
       "<style scoped>\n",
       "    .dataframe tbody tr th:only-of-type {\n",
       "        vertical-align: middle;\n",
       "    }\n",
       "\n",
       "    .dataframe tbody tr th {\n",
       "        vertical-align: top;\n",
       "    }\n",
       "\n",
       "    .dataframe thead th {\n",
       "        text-align: right;\n",
       "    }\n",
       "</style>\n",
       "<table border=\"1\" class=\"dataframe\">\n",
       "  <thead>\n",
       "    <tr style=\"text-align: right;\">\n",
       "      <th></th>\n",
       "      <th>Date</th>\n",
       "      <th>Label</th>\n",
       "      <th>Top1</th>\n",
       "      <th>Top2</th>\n",
       "      <th>Top3</th>\n",
       "      <th>Top4</th>\n",
       "      <th>Top5</th>\n",
       "      <th>Top6</th>\n",
       "      <th>Top7</th>\n",
       "      <th>Top8</th>\n",
       "      <th>...</th>\n",
       "      <th>Top16</th>\n",
       "      <th>Top17</th>\n",
       "      <th>Top18</th>\n",
       "      <th>Top19</th>\n",
       "      <th>Top20</th>\n",
       "      <th>Top21</th>\n",
       "      <th>Top22</th>\n",
       "      <th>Top23</th>\n",
       "      <th>Top24</th>\n",
       "      <th>Top25</th>\n",
       "    </tr>\n",
       "  </thead>\n",
       "  <tbody>\n",
       "    <tr>\n",
       "      <th>0</th>\n",
       "      <td>2000-01-03</td>\n",
       "      <td>0</td>\n",
       "      <td>A 'hindrance to operations': extracts from the...</td>\n",
       "      <td>Scorecard</td>\n",
       "      <td>Hughes' instant hit buoys Blues</td>\n",
       "      <td>Jack gets his skates on at ice-cold Alex</td>\n",
       "      <td>Chaos as Maracana builds up for United</td>\n",
       "      <td>Depleted Leicester prevail as Elliott spoils E...</td>\n",
       "      <td>Hungry Spurs sense rich pickings</td>\n",
       "      <td>Gunners so wide of an easy target</td>\n",
       "      <td>...</td>\n",
       "      <td>Flintoff injury piles on woe for England</td>\n",
       "      <td>Hunters threaten Jospin with new battle of the...</td>\n",
       "      <td>Kohl's successor drawn into scandal</td>\n",
       "      <td>The difference between men and women</td>\n",
       "      <td>Sara Denver, nurse turned solicitor</td>\n",
       "      <td>Diana's landmine crusade put Tories in a panic</td>\n",
       "      <td>Yeltsin's resignation caught opposition flat-f...</td>\n",
       "      <td>Russian roulette</td>\n",
       "      <td>Sold out</td>\n",
       "      <td>Recovering a title</td>\n",
       "    </tr>\n",
       "    <tr>\n",
       "      <th>1</th>\n",
       "      <td>2000-01-04</td>\n",
       "      <td>0</td>\n",
       "      <td>Scorecard</td>\n",
       "      <td>The best lake scene</td>\n",
       "      <td>Leader: German sleaze inquiry</td>\n",
       "      <td>Cheerio, boyo</td>\n",
       "      <td>The main recommendations</td>\n",
       "      <td>Has Cubie killed fees?</td>\n",
       "      <td>Has Cubie killed fees?</td>\n",
       "      <td>Has Cubie killed fees?</td>\n",
       "      <td>...</td>\n",
       "      <td>On the critical list</td>\n",
       "      <td>The timing of their lives</td>\n",
       "      <td>Dear doctor</td>\n",
       "      <td>Irish court halts IRA man's extradition to Nor...</td>\n",
       "      <td>Burundi peace initiative fades after rebels re...</td>\n",
       "      <td>PE points the way forward to the ECB</td>\n",
       "      <td>Campaigners keep up pressure on Nazi war crime...</td>\n",
       "      <td>Jane Ratcliffe</td>\n",
       "      <td>Yet more things you wouldn't know without the ...</td>\n",
       "      <td>Millennium bug fails to bite</td>\n",
       "    </tr>\n",
       "    <tr>\n",
       "      <th>2</th>\n",
       "      <td>2000-01-05</td>\n",
       "      <td>0</td>\n",
       "      <td>Coventry caught on counter by Flo</td>\n",
       "      <td>United's rivals on the road to Rio</td>\n",
       "      <td>Thatcher issues defence before trial by video</td>\n",
       "      <td>Police help Smith lay down the law at Everton</td>\n",
       "      <td>Tale of Trautmann bears two more retellings</td>\n",
       "      <td>England on the rack</td>\n",
       "      <td>Pakistan retaliate with call for video of Walsh</td>\n",
       "      <td>Cullinan continues his Cape monopoly</td>\n",
       "      <td>...</td>\n",
       "      <td>South Melbourne (Australia)</td>\n",
       "      <td>Necaxa (Mexico)</td>\n",
       "      <td>Real Madrid (Spain)</td>\n",
       "      <td>Raja Casablanca (Morocco)</td>\n",
       "      <td>Corinthians (Brazil)</td>\n",
       "      <td>Tony's pet project</td>\n",
       "      <td>Al Nassr (Saudi Arabia)</td>\n",
       "      <td>Ideal Holmes show</td>\n",
       "      <td>Pinochet leaves hospital after tests</td>\n",
       "      <td>Useful links</td>\n",
       "    </tr>\n",
       "    <tr>\n",
       "      <th>3</th>\n",
       "      <td>2000-01-06</td>\n",
       "      <td>1</td>\n",
       "      <td>Pilgrim knows how to progress</td>\n",
       "      <td>Thatcher facing ban</td>\n",
       "      <td>McIlroy calls for Irish fighting spirit</td>\n",
       "      <td>Leicester bin stadium blueprint</td>\n",
       "      <td>United braced for Mexican wave</td>\n",
       "      <td>Auntie back in fashion, even if the dress look...</td>\n",
       "      <td>Shoaib appeal goes to the top</td>\n",
       "      <td>Hussain hurt by 'shambles' but lays blame on e...</td>\n",
       "      <td>...</td>\n",
       "      <td>Putin admits Yeltsin quit to give him a head s...</td>\n",
       "      <td>BBC worst hit as digital TV begins to bite</td>\n",
       "      <td>How much can you pay for...</td>\n",
       "      <td>Christmas glitches</td>\n",
       "      <td>Upending a table, Chopping a line and Scoring ...</td>\n",
       "      <td>Scientific evidence 'unreliable', defence claims</td>\n",
       "      <td>Fusco wins judicial review in extradition case</td>\n",
       "      <td>Rebels thwart Russian advance</td>\n",
       "      <td>Blair orders shake-up of failing NHS</td>\n",
       "      <td>Lessons of law's hard heart</td>\n",
       "    </tr>\n",
       "    <tr>\n",
       "      <th>4</th>\n",
       "      <td>2000-01-07</td>\n",
       "      <td>1</td>\n",
       "      <td>Hitches and Horlocks</td>\n",
       "      <td>Beckham off but United survive</td>\n",
       "      <td>Breast cancer screening</td>\n",
       "      <td>Alan Parker</td>\n",
       "      <td>Guardian readers: are you all whingers?</td>\n",
       "      <td>Hollywood Beyond</td>\n",
       "      <td>Ashes and diamonds</td>\n",
       "      <td>Whingers - a formidable minority</td>\n",
       "      <td>...</td>\n",
       "      <td>Most everywhere:  UDIs</td>\n",
       "      <td>Most wanted:  Chloe lunettes</td>\n",
       "      <td>Return of the cane 'completely off the agenda'</td>\n",
       "      <td>From Sleepy Hollow to Greeneland</td>\n",
       "      <td>Blunkett outlines vision for over 11s</td>\n",
       "      <td>Embattled Dobson attacks 'play now, pay later'...</td>\n",
       "      <td>Doom and the Dome</td>\n",
       "      <td>What is the north-south divide?</td>\n",
       "      <td>Aitken released from jail</td>\n",
       "      <td>Gone aloft</td>\n",
       "    </tr>\n",
       "  </tbody>\n",
       "</table>\n",
       "<p>5 rows × 27 columns</p>\n",
       "</div>"
      ],
      "text/plain": [
       "         Date  Label                                               Top1  \\\n",
       "0  2000-01-03      0  A 'hindrance to operations': extracts from the...   \n",
       "1  2000-01-04      0                                          Scorecard   \n",
       "2  2000-01-05      0                  Coventry caught on counter by Flo   \n",
       "3  2000-01-06      1                      Pilgrim knows how to progress   \n",
       "4  2000-01-07      1                               Hitches and Horlocks   \n",
       "\n",
       "                                 Top2  \\\n",
       "0                           Scorecard   \n",
       "1                 The best lake scene   \n",
       "2  United's rivals on the road to Rio   \n",
       "3                 Thatcher facing ban   \n",
       "4      Beckham off but United survive   \n",
       "\n",
       "                                            Top3  \\\n",
       "0                Hughes' instant hit buoys Blues   \n",
       "1                  Leader: German sleaze inquiry   \n",
       "2  Thatcher issues defence before trial by video   \n",
       "3        McIlroy calls for Irish fighting spirit   \n",
       "4                        Breast cancer screening   \n",
       "\n",
       "                                            Top4  \\\n",
       "0       Jack gets his skates on at ice-cold Alex   \n",
       "1                                  Cheerio, boyo   \n",
       "2  Police help Smith lay down the law at Everton   \n",
       "3                Leicester bin stadium blueprint   \n",
       "4                                    Alan Parker   \n",
       "\n",
       "                                          Top5  \\\n",
       "0       Chaos as Maracana builds up for United   \n",
       "1                     The main recommendations   \n",
       "2  Tale of Trautmann bears two more retellings   \n",
       "3               United braced for Mexican wave   \n",
       "4      Guardian readers: are you all whingers?   \n",
       "\n",
       "                                                Top6  \\\n",
       "0  Depleted Leicester prevail as Elliott spoils E...   \n",
       "1                             Has Cubie killed fees?   \n",
       "2                                England on the rack   \n",
       "3  Auntie back in fashion, even if the dress look...   \n",
       "4                                   Hollywood Beyond   \n",
       "\n",
       "                                              Top7  \\\n",
       "0                 Hungry Spurs sense rich pickings   \n",
       "1                           Has Cubie killed fees?   \n",
       "2  Pakistan retaliate with call for video of Walsh   \n",
       "3                    Shoaib appeal goes to the top   \n",
       "4                               Ashes and diamonds   \n",
       "\n",
       "                                                Top8  ...  \\\n",
       "0                  Gunners so wide of an easy target  ...   \n",
       "1                             Has Cubie killed fees?  ...   \n",
       "2               Cullinan continues his Cape monopoly  ...   \n",
       "3  Hussain hurt by 'shambles' but lays blame on e...  ...   \n",
       "4                   Whingers - a formidable minority  ...   \n",
       "\n",
       "                                               Top16  \\\n",
       "0           Flintoff injury piles on woe for England   \n",
       "1                               On the critical list   \n",
       "2                        South Melbourne (Australia)   \n",
       "3  Putin admits Yeltsin quit to give him a head s...   \n",
       "4                             Most everywhere:  UDIs   \n",
       "\n",
       "                                               Top17  \\\n",
       "0  Hunters threaten Jospin with new battle of the...   \n",
       "1                          The timing of their lives   \n",
       "2                                    Necaxa (Mexico)   \n",
       "3         BBC worst hit as digital TV begins to bite   \n",
       "4                       Most wanted:  Chloe lunettes   \n",
       "\n",
       "                                            Top18  \\\n",
       "0             Kohl's successor drawn into scandal   \n",
       "1                                     Dear doctor   \n",
       "2                             Real Madrid (Spain)   \n",
       "3                     How much can you pay for...   \n",
       "4  Return of the cane 'completely off the agenda'   \n",
       "\n",
       "                                               Top19  \\\n",
       "0               The difference between men and women   \n",
       "1  Irish court halts IRA man's extradition to Nor...   \n",
       "2                          Raja Casablanca (Morocco)   \n",
       "3                                 Christmas glitches   \n",
       "4                   From Sleepy Hollow to Greeneland   \n",
       "\n",
       "                                               Top20  \\\n",
       "0                Sara Denver, nurse turned solicitor   \n",
       "1  Burundi peace initiative fades after rebels re...   \n",
       "2                               Corinthians (Brazil)   \n",
       "3  Upending a table, Chopping a line and Scoring ...   \n",
       "4              Blunkett outlines vision for over 11s   \n",
       "\n",
       "                                               Top21  \\\n",
       "0     Diana's landmine crusade put Tories in a panic   \n",
       "1               PE points the way forward to the ECB   \n",
       "2                                 Tony's pet project   \n",
       "3   Scientific evidence 'unreliable', defence claims   \n",
       "4  Embattled Dobson attacks 'play now, pay later'...   \n",
       "\n",
       "                                               Top22  \\\n",
       "0  Yeltsin's resignation caught opposition flat-f...   \n",
       "1  Campaigners keep up pressure on Nazi war crime...   \n",
       "2                            Al Nassr (Saudi Arabia)   \n",
       "3     Fusco wins judicial review in extradition case   \n",
       "4                                  Doom and the Dome   \n",
       "\n",
       "                             Top23  \\\n",
       "0                 Russian roulette   \n",
       "1                   Jane Ratcliffe   \n",
       "2                Ideal Holmes show   \n",
       "3    Rebels thwart Russian advance   \n",
       "4  What is the north-south divide?   \n",
       "\n",
       "                                               Top24  \\\n",
       "0                                           Sold out   \n",
       "1  Yet more things you wouldn't know without the ...   \n",
       "2               Pinochet leaves hospital after tests   \n",
       "3               Blair orders shake-up of failing NHS   \n",
       "4                          Aitken released from jail   \n",
       "\n",
       "                          Top25  \n",
       "0            Recovering a title  \n",
       "1  Millennium bug fails to bite  \n",
       "2                  Useful links  \n",
       "3   Lessons of law's hard heart  \n",
       "4                    Gone aloft  \n",
       "\n",
       "[5 rows x 27 columns]"
      ]
     },
     "execution_count": 149,
     "metadata": {},
     "output_type": "execute_result"
    }
   ],
   "source": [
    "df.head()"
   ]
  },
  {
   "cell_type": "markdown",
   "id": "2b4c76e3",
   "metadata": {},
   "source": [
    "# Train Test split"
   ]
  },
  {
   "cell_type": "code",
   "execution_count": 150,
   "id": "952d2adb",
   "metadata": {},
   "outputs": [],
   "source": [
    "train1=df[df.Date<'20150101']\n",
    "test1=df[df.Date>'20141231']"
   ]
  },
  {
   "cell_type": "code",
   "execution_count": 151,
   "id": "2935c18b",
   "metadata": {},
   "outputs": [
    {
     "data": {
      "text/html": [
       "<div>\n",
       "<style scoped>\n",
       "    .dataframe tbody tr th:only-of-type {\n",
       "        vertical-align: middle;\n",
       "    }\n",
       "\n",
       "    .dataframe tbody tr th {\n",
       "        vertical-align: top;\n",
       "    }\n",
       "\n",
       "    .dataframe thead th {\n",
       "        text-align: right;\n",
       "    }\n",
       "</style>\n",
       "<table border=\"1\" class=\"dataframe\">\n",
       "  <thead>\n",
       "    <tr style=\"text-align: right;\">\n",
       "      <th></th>\n",
       "      <th>Date</th>\n",
       "      <th>Label</th>\n",
       "      <th>Top1</th>\n",
       "      <th>Top2</th>\n",
       "      <th>Top3</th>\n",
       "      <th>Top4</th>\n",
       "      <th>Top5</th>\n",
       "      <th>Top6</th>\n",
       "      <th>Top7</th>\n",
       "      <th>Top8</th>\n",
       "      <th>...</th>\n",
       "      <th>Top16</th>\n",
       "      <th>Top17</th>\n",
       "      <th>Top18</th>\n",
       "      <th>Top19</th>\n",
       "      <th>Top20</th>\n",
       "      <th>Top21</th>\n",
       "      <th>Top22</th>\n",
       "      <th>Top23</th>\n",
       "      <th>Top24</th>\n",
       "      <th>Top25</th>\n",
       "    </tr>\n",
       "  </thead>\n",
       "  <tbody>\n",
       "    <tr>\n",
       "      <th>0</th>\n",
       "      <td>2000-01-03</td>\n",
       "      <td>0</td>\n",
       "      <td>A 'hindrance to operations': extracts from the...</td>\n",
       "      <td>Scorecard</td>\n",
       "      <td>Hughes' instant hit buoys Blues</td>\n",
       "      <td>Jack gets his skates on at ice-cold Alex</td>\n",
       "      <td>Chaos as Maracana builds up for United</td>\n",
       "      <td>Depleted Leicester prevail as Elliott spoils E...</td>\n",
       "      <td>Hungry Spurs sense rich pickings</td>\n",
       "      <td>Gunners so wide of an easy target</td>\n",
       "      <td>...</td>\n",
       "      <td>Flintoff injury piles on woe for England</td>\n",
       "      <td>Hunters threaten Jospin with new battle of the...</td>\n",
       "      <td>Kohl's successor drawn into scandal</td>\n",
       "      <td>The difference between men and women</td>\n",
       "      <td>Sara Denver, nurse turned solicitor</td>\n",
       "      <td>Diana's landmine crusade put Tories in a panic</td>\n",
       "      <td>Yeltsin's resignation caught opposition flat-f...</td>\n",
       "      <td>Russian roulette</td>\n",
       "      <td>Sold out</td>\n",
       "      <td>Recovering a title</td>\n",
       "    </tr>\n",
       "    <tr>\n",
       "      <th>1</th>\n",
       "      <td>2000-01-04</td>\n",
       "      <td>0</td>\n",
       "      <td>Scorecard</td>\n",
       "      <td>The best lake scene</td>\n",
       "      <td>Leader: German sleaze inquiry</td>\n",
       "      <td>Cheerio, boyo</td>\n",
       "      <td>The main recommendations</td>\n",
       "      <td>Has Cubie killed fees?</td>\n",
       "      <td>Has Cubie killed fees?</td>\n",
       "      <td>Has Cubie killed fees?</td>\n",
       "      <td>...</td>\n",
       "      <td>On the critical list</td>\n",
       "      <td>The timing of their lives</td>\n",
       "      <td>Dear doctor</td>\n",
       "      <td>Irish court halts IRA man's extradition to Nor...</td>\n",
       "      <td>Burundi peace initiative fades after rebels re...</td>\n",
       "      <td>PE points the way forward to the ECB</td>\n",
       "      <td>Campaigners keep up pressure on Nazi war crime...</td>\n",
       "      <td>Jane Ratcliffe</td>\n",
       "      <td>Yet more things you wouldn't know without the ...</td>\n",
       "      <td>Millennium bug fails to bite</td>\n",
       "    </tr>\n",
       "    <tr>\n",
       "      <th>2</th>\n",
       "      <td>2000-01-05</td>\n",
       "      <td>0</td>\n",
       "      <td>Coventry caught on counter by Flo</td>\n",
       "      <td>United's rivals on the road to Rio</td>\n",
       "      <td>Thatcher issues defence before trial by video</td>\n",
       "      <td>Police help Smith lay down the law at Everton</td>\n",
       "      <td>Tale of Trautmann bears two more retellings</td>\n",
       "      <td>England on the rack</td>\n",
       "      <td>Pakistan retaliate with call for video of Walsh</td>\n",
       "      <td>Cullinan continues his Cape monopoly</td>\n",
       "      <td>...</td>\n",
       "      <td>South Melbourne (Australia)</td>\n",
       "      <td>Necaxa (Mexico)</td>\n",
       "      <td>Real Madrid (Spain)</td>\n",
       "      <td>Raja Casablanca (Morocco)</td>\n",
       "      <td>Corinthians (Brazil)</td>\n",
       "      <td>Tony's pet project</td>\n",
       "      <td>Al Nassr (Saudi Arabia)</td>\n",
       "      <td>Ideal Holmes show</td>\n",
       "      <td>Pinochet leaves hospital after tests</td>\n",
       "      <td>Useful links</td>\n",
       "    </tr>\n",
       "    <tr>\n",
       "      <th>3</th>\n",
       "      <td>2000-01-06</td>\n",
       "      <td>1</td>\n",
       "      <td>Pilgrim knows how to progress</td>\n",
       "      <td>Thatcher facing ban</td>\n",
       "      <td>McIlroy calls for Irish fighting spirit</td>\n",
       "      <td>Leicester bin stadium blueprint</td>\n",
       "      <td>United braced for Mexican wave</td>\n",
       "      <td>Auntie back in fashion, even if the dress look...</td>\n",
       "      <td>Shoaib appeal goes to the top</td>\n",
       "      <td>Hussain hurt by 'shambles' but lays blame on e...</td>\n",
       "      <td>...</td>\n",
       "      <td>Putin admits Yeltsin quit to give him a head s...</td>\n",
       "      <td>BBC worst hit as digital TV begins to bite</td>\n",
       "      <td>How much can you pay for...</td>\n",
       "      <td>Christmas glitches</td>\n",
       "      <td>Upending a table, Chopping a line and Scoring ...</td>\n",
       "      <td>Scientific evidence 'unreliable', defence claims</td>\n",
       "      <td>Fusco wins judicial review in extradition case</td>\n",
       "      <td>Rebels thwart Russian advance</td>\n",
       "      <td>Blair orders shake-up of failing NHS</td>\n",
       "      <td>Lessons of law's hard heart</td>\n",
       "    </tr>\n",
       "    <tr>\n",
       "      <th>4</th>\n",
       "      <td>2000-01-07</td>\n",
       "      <td>1</td>\n",
       "      <td>Hitches and Horlocks</td>\n",
       "      <td>Beckham off but United survive</td>\n",
       "      <td>Breast cancer screening</td>\n",
       "      <td>Alan Parker</td>\n",
       "      <td>Guardian readers: are you all whingers?</td>\n",
       "      <td>Hollywood Beyond</td>\n",
       "      <td>Ashes and diamonds</td>\n",
       "      <td>Whingers - a formidable minority</td>\n",
       "      <td>...</td>\n",
       "      <td>Most everywhere:  UDIs</td>\n",
       "      <td>Most wanted:  Chloe lunettes</td>\n",
       "      <td>Return of the cane 'completely off the agenda'</td>\n",
       "      <td>From Sleepy Hollow to Greeneland</td>\n",
       "      <td>Blunkett outlines vision for over 11s</td>\n",
       "      <td>Embattled Dobson attacks 'play now, pay later'...</td>\n",
       "      <td>Doom and the Dome</td>\n",
       "      <td>What is the north-south divide?</td>\n",
       "      <td>Aitken released from jail</td>\n",
       "      <td>Gone aloft</td>\n",
       "    </tr>\n",
       "    <tr>\n",
       "      <th>...</th>\n",
       "      <td>...</td>\n",
       "      <td>...</td>\n",
       "      <td>...</td>\n",
       "      <td>...</td>\n",
       "      <td>...</td>\n",
       "      <td>...</td>\n",
       "      <td>...</td>\n",
       "      <td>...</td>\n",
       "      <td>...</td>\n",
       "      <td>...</td>\n",
       "      <td>...</td>\n",
       "      <td>...</td>\n",
       "      <td>...</td>\n",
       "      <td>...</td>\n",
       "      <td>...</td>\n",
       "      <td>...</td>\n",
       "      <td>...</td>\n",
       "      <td>...</td>\n",
       "      <td>...</td>\n",
       "      <td>...</td>\n",
       "      <td>...</td>\n",
       "    </tr>\n",
       "    <tr>\n",
       "      <th>3970</th>\n",
       "      <td>2015-12-24</td>\n",
       "      <td>0</td>\n",
       "      <td>Brazil declares emergency after 2,400 babies a...</td>\n",
       "      <td>Scientists find big 1500-yr-old Viking settlem...</td>\n",
       "      <td>Paris attacks: Belgian police arrest ninth sus...</td>\n",
       "      <td>Wiretapping reveals communication between Turk...</td>\n",
       "      <td>Russia airstrikes: Hundreds of Syrian civilans...</td>\n",
       "      <td>Pakistan changes neutral position on Syrian Ci...</td>\n",
       "      <td>North Korean diplomat arrested in South Africa...</td>\n",
       "      <td>German teachers want 'Mein Kampf' on syllabus</td>\n",
       "      <td>...</td>\n",
       "      <td>Report on sexual exploitation and abuse by pea...</td>\n",
       "      <td>Baby girl dies after X-president's son's staff...</td>\n",
       "      <td>China smog sparks red alerts in 10 cities</td>\n",
       "      <td>US planned East Berlin's 'systematic destructi...</td>\n",
       "      <td>Qatar World Cup 2022 workers 'earning as littl...</td>\n",
       "      <td>Thai Court Sentences Two to Death for Killings...</td>\n",
       "      <td>Germany Pays to Halt Danish Wind Power to Prot...</td>\n",
       "      <td>Egypts President Sisi Urges Islamic Scholars t...</td>\n",
       "      <td>Russia Rejects Amnesty Internationals Report o...</td>\n",
       "      <td>Cameron, Osborne and Murdoch back together at ...</td>\n",
       "    </tr>\n",
       "    <tr>\n",
       "      <th>3971</th>\n",
       "      <td>2015-12-28</td>\n",
       "      <td>0</td>\n",
       "      <td>Germany recruits 8,500 teachers to teach Germa...</td>\n",
       "      <td>Almost 23,000 people have signed an Italian po...</td>\n",
       "      <td>Japan apologizes to Korea over sexual enslavem...</td>\n",
       "      <td>Milan and Rome ban cars as pollution rises. Mi...</td>\n",
       "      <td>Saudi posts record $98 bn deficit in 2015</td>\n",
       "      <td>The United States, Russia, Iran, and Saudi Ara...</td>\n",
       "      <td>Vladimir Putin has achieved his central goal o...</td>\n",
       "      <td>Noted Syrian journalist who uncovered ISIS Ale...</td>\n",
       "      <td>...</td>\n",
       "      <td>Saudi Arabia Plans Subsidy Cuts as King Unveil...</td>\n",
       "      <td>Syria anti-ISIS documentary maker 'assassinate...</td>\n",
       "      <td>Denmark wants Geneva Convention debate if Euro...</td>\n",
       "      <td>David Cameron is heckled during visit to flood...</td>\n",
       "      <td>British Army Is Deployed as Flooding Submerges...</td>\n",
       "      <td>Brazils reluctance to accept an Israeli ambass...</td>\n",
       "      <td>Russian GDP down 4.0 percent year-on-year in N...</td>\n",
       "      <td>Syria and Iraq: Ethnic cleansing by Sunni and ...</td>\n",
       "      <td>Deadly car bomb explodes at Kabul airport</td>\n",
       "      <td>Experiment in Germany tests the idea of an 'em...</td>\n",
       "    </tr>\n",
       "    <tr>\n",
       "      <th>3972</th>\n",
       "      <td>2015-12-29</td>\n",
       "      <td>1</td>\n",
       "      <td>Pentagon thwarts Obama's effort to close Guant...</td>\n",
       "      <td>Rare Footage of Giant Squid in Japan</td>\n",
       "      <td>Muslims tell ISIS they'd rather see Star Wars ...</td>\n",
       "      <td>Syrian Journalist Who Documented ISIS Atrociti...</td>\n",
       "      <td>North Korea's second most-powerful man sent to...</td>\n",
       "      <td>Austria Turns Away Hundreds of Migrants for Ly...</td>\n",
       "      <td>Saudi Grand Mufti calls ISIS part of the Israe...</td>\n",
       "      <td>'What has war yielded, neither land nor heaven...</td>\n",
       "      <td>...</td>\n",
       "      <td>Iran Hands Over Stockpile of Enriched Uranium ...</td>\n",
       "      <td>Registrar Shuts Down All Pirate Bay Domain Names</td>\n",
       "      <td>The Irish Government has taken unprecedented a...</td>\n",
       "      <td>Saudi Arabia to raise domestic petrol prices b...</td>\n",
       "      <td>Saudi Arabia hikes petrol prices by 40% at the...</td>\n",
       "      <td>World Health Organization declares Guinea Ebol...</td>\n",
       "      <td>Hacker group Anonymous is helping the 'Making ...</td>\n",
       "      <td>Russia 'has removed uranium from Iran'</td>\n",
       "      <td>China threatens to shoot down Australian aircr...</td>\n",
       "      <td>Israel warns Brazil to accept its settler amba...</td>\n",
       "    </tr>\n",
       "    <tr>\n",
       "      <th>3973</th>\n",
       "      <td>2015-12-30</td>\n",
       "      <td>0</td>\n",
       "      <td>Tech companies face criminal charges if they n...</td>\n",
       "      <td>Mexican marijuana farmers see profits tumble a...</td>\n",
       "      <td>A would-be suicide bomber and his wife have be...</td>\n",
       "      <td>The rich will get richer while two million mor...</td>\n",
       "      <td>The North Pole will have above freezing temper...</td>\n",
       "      <td>South Australia - New sexting laws to spare ch...</td>\n",
       "      <td>ISIS militants burn 20 media activists to deat...</td>\n",
       "      <td>Italy fines Apple over misleading tax conduct</td>\n",
       "      <td>...</td>\n",
       "      <td>Norway to turn back asylum seekers on Swedish ...</td>\n",
       "      <td>Islamic State Suffers Double Blow As Ramadi Fa...</td>\n",
       "      <td>Journalist reveals Erdoan imprisoned him for e...</td>\n",
       "      <td>Russian Moon base plan falls victim to budget ...</td>\n",
       "      <td>Belgium, Netherlands to exchange territory  wi...</td>\n",
       "      <td>North Korea says top official Kim Yang-gon kil...</td>\n",
       "      <td>Putin's Son-in-Law Boosted by $1.75 Bln Russia...</td>\n",
       "      <td>An orgasm a day could cut prostate cancer risk</td>\n",
       "      <td>Germans claim Belgian nuclear reactors are \"fa...</td>\n",
       "      <td>UK Sperm Bank Doesn't Accept Donors with Dysle...</td>\n",
       "    </tr>\n",
       "    <tr>\n",
       "      <th>3974</th>\n",
       "      <td>2015-12-31</td>\n",
       "      <td>0</td>\n",
       "      <td>Microsoft Corp said on Wednesday it will begin...</td>\n",
       "      <td>Greek Orthodox Church: Homosexuals are God's c...</td>\n",
       "      <td>Vladmir Putin officially dissolves Roscosmos, ...</td>\n",
       "      <td>Donald Trump could be refused entry to the UK ...</td>\n",
       "      <td>Saudi Arabia says its ready to meet any additi...</td>\n",
       "      <td>New Year fireworks and festivities have been c...</td>\n",
       "      <td>New species of human may have shared our caves...</td>\n",
       "      <td>Egypt becomes second nation to shut down Faceb...</td>\n",
       "      <td>...</td>\n",
       "      <td>Ramadi residents fleeing ISIS: 'They wanted to...</td>\n",
       "      <td>Israeli Gov't approves NIS 15-billion plan to ...</td>\n",
       "      <td>Russia denies 'absurd' claims that air strikes...</td>\n",
       "      <td>Web attack knocks BBC websites offline</td>\n",
       "      <td>Iran says any U.S. sanctions on missiles illegal</td>\n",
       "      <td>Maternity Benefits: Indian Government plans to...</td>\n",
       "      <td>'Rat on a plane' forces Air India flight to tu...</td>\n",
       "      <td>Philippines to join China-backed AIIB infrastr...</td>\n",
       "      <td>ESPN invites five FIFA presidential candidates...</td>\n",
       "      <td>Hamas to keep Palestinians from ringing in New...</td>\n",
       "    </tr>\n",
       "  </tbody>\n",
       "</table>\n",
       "<p>3975 rows × 27 columns</p>\n",
       "</div>"
      ],
      "text/plain": [
       "            Date  Label                                               Top1  \\\n",
       "0     2000-01-03      0  A 'hindrance to operations': extracts from the...   \n",
       "1     2000-01-04      0                                          Scorecard   \n",
       "2     2000-01-05      0                  Coventry caught on counter by Flo   \n",
       "3     2000-01-06      1                      Pilgrim knows how to progress   \n",
       "4     2000-01-07      1                               Hitches and Horlocks   \n",
       "...          ...    ...                                                ...   \n",
       "3970  2015-12-24      0  Brazil declares emergency after 2,400 babies a...   \n",
       "3971  2015-12-28      0  Germany recruits 8,500 teachers to teach Germa...   \n",
       "3972  2015-12-29      1  Pentagon thwarts Obama's effort to close Guant...   \n",
       "3973  2015-12-30      0  Tech companies face criminal charges if they n...   \n",
       "3974  2015-12-31      0  Microsoft Corp said on Wednesday it will begin...   \n",
       "\n",
       "                                                   Top2  \\\n",
       "0                                             Scorecard   \n",
       "1                                   The best lake scene   \n",
       "2                    United's rivals on the road to Rio   \n",
       "3                                   Thatcher facing ban   \n",
       "4                        Beckham off but United survive   \n",
       "...                                                 ...   \n",
       "3970  Scientists find big 1500-yr-old Viking settlem...   \n",
       "3971  Almost 23,000 people have signed an Italian po...   \n",
       "3972               Rare Footage of Giant Squid in Japan   \n",
       "3973  Mexican marijuana farmers see profits tumble a...   \n",
       "3974  Greek Orthodox Church: Homosexuals are God's c...   \n",
       "\n",
       "                                                   Top3  \\\n",
       "0                       Hughes' instant hit buoys Blues   \n",
       "1                         Leader: German sleaze inquiry   \n",
       "2         Thatcher issues defence before trial by video   \n",
       "3               McIlroy calls for Irish fighting spirit   \n",
       "4                               Breast cancer screening   \n",
       "...                                                 ...   \n",
       "3970  Paris attacks: Belgian police arrest ninth sus...   \n",
       "3971  Japan apologizes to Korea over sexual enslavem...   \n",
       "3972  Muslims tell ISIS they'd rather see Star Wars ...   \n",
       "3973  A would-be suicide bomber and his wife have be...   \n",
       "3974  Vladmir Putin officially dissolves Roscosmos, ...   \n",
       "\n",
       "                                                   Top4  \\\n",
       "0              Jack gets his skates on at ice-cold Alex   \n",
       "1                                         Cheerio, boyo   \n",
       "2         Police help Smith lay down the law at Everton   \n",
       "3                       Leicester bin stadium blueprint   \n",
       "4                                           Alan Parker   \n",
       "...                                                 ...   \n",
       "3970  Wiretapping reveals communication between Turk...   \n",
       "3971  Milan and Rome ban cars as pollution rises. Mi...   \n",
       "3972  Syrian Journalist Who Documented ISIS Atrociti...   \n",
       "3973  The rich will get richer while two million mor...   \n",
       "3974  Donald Trump could be refused entry to the UK ...   \n",
       "\n",
       "                                                   Top5  \\\n",
       "0                Chaos as Maracana builds up for United   \n",
       "1                              The main recommendations   \n",
       "2           Tale of Trautmann bears two more retellings   \n",
       "3                        United braced for Mexican wave   \n",
       "4               Guardian readers: are you all whingers?   \n",
       "...                                                 ...   \n",
       "3970  Russia airstrikes: Hundreds of Syrian civilans...   \n",
       "3971          Saudi posts record $98 bn deficit in 2015   \n",
       "3972  North Korea's second most-powerful man sent to...   \n",
       "3973  The North Pole will have above freezing temper...   \n",
       "3974  Saudi Arabia says its ready to meet any additi...   \n",
       "\n",
       "                                                   Top6  \\\n",
       "0     Depleted Leicester prevail as Elliott spoils E...   \n",
       "1                                Has Cubie killed fees?   \n",
       "2                                   England on the rack   \n",
       "3     Auntie back in fashion, even if the dress look...   \n",
       "4                                      Hollywood Beyond   \n",
       "...                                                 ...   \n",
       "3970  Pakistan changes neutral position on Syrian Ci...   \n",
       "3971  The United States, Russia, Iran, and Saudi Ara...   \n",
       "3972  Austria Turns Away Hundreds of Migrants for Ly...   \n",
       "3973  South Australia - New sexting laws to spare ch...   \n",
       "3974  New Year fireworks and festivities have been c...   \n",
       "\n",
       "                                                   Top7  \\\n",
       "0                      Hungry Spurs sense rich pickings   \n",
       "1                                Has Cubie killed fees?   \n",
       "2       Pakistan retaliate with call for video of Walsh   \n",
       "3                         Shoaib appeal goes to the top   \n",
       "4                                    Ashes and diamonds   \n",
       "...                                                 ...   \n",
       "3970  North Korean diplomat arrested in South Africa...   \n",
       "3971  Vladimir Putin has achieved his central goal o...   \n",
       "3972  Saudi Grand Mufti calls ISIS part of the Israe...   \n",
       "3973  ISIS militants burn 20 media activists to deat...   \n",
       "3974  New species of human may have shared our caves...   \n",
       "\n",
       "                                                   Top8  ...  \\\n",
       "0                     Gunners so wide of an easy target  ...   \n",
       "1                                Has Cubie killed fees?  ...   \n",
       "2                  Cullinan continues his Cape monopoly  ...   \n",
       "3     Hussain hurt by 'shambles' but lays blame on e...  ...   \n",
       "4                      Whingers - a formidable minority  ...   \n",
       "...                                                 ...  ...   \n",
       "3970      German teachers want 'Mein Kampf' on syllabus  ...   \n",
       "3971  Noted Syrian journalist who uncovered ISIS Ale...  ...   \n",
       "3972  'What has war yielded, neither land nor heaven...  ...   \n",
       "3973      Italy fines Apple over misleading tax conduct  ...   \n",
       "3974  Egypt becomes second nation to shut down Faceb...  ...   \n",
       "\n",
       "                                                  Top16  \\\n",
       "0              Flintoff injury piles on woe for England   \n",
       "1                                  On the critical list   \n",
       "2                           South Melbourne (Australia)   \n",
       "3     Putin admits Yeltsin quit to give him a head s...   \n",
       "4                                Most everywhere:  UDIs   \n",
       "...                                                 ...   \n",
       "3970  Report on sexual exploitation and abuse by pea...   \n",
       "3971  Saudi Arabia Plans Subsidy Cuts as King Unveil...   \n",
       "3972  Iran Hands Over Stockpile of Enriched Uranium ...   \n",
       "3973  Norway to turn back asylum seekers on Swedish ...   \n",
       "3974  Ramadi residents fleeing ISIS: 'They wanted to...   \n",
       "\n",
       "                                                  Top17  \\\n",
       "0     Hunters threaten Jospin with new battle of the...   \n",
       "1                             The timing of their lives   \n",
       "2                                       Necaxa (Mexico)   \n",
       "3            BBC worst hit as digital TV begins to bite   \n",
       "4                          Most wanted:  Chloe lunettes   \n",
       "...                                                 ...   \n",
       "3970  Baby girl dies after X-president's son's staff...   \n",
       "3971  Syria anti-ISIS documentary maker 'assassinate...   \n",
       "3972   Registrar Shuts Down All Pirate Bay Domain Names   \n",
       "3973  Islamic State Suffers Double Blow As Ramadi Fa...   \n",
       "3974  Israeli Gov't approves NIS 15-billion plan to ...   \n",
       "\n",
       "                                                  Top18  \\\n",
       "0                   Kohl's successor drawn into scandal   \n",
       "1                                           Dear doctor   \n",
       "2                                   Real Madrid (Spain)   \n",
       "3                           How much can you pay for...   \n",
       "4        Return of the cane 'completely off the agenda'   \n",
       "...                                                 ...   \n",
       "3970          China smog sparks red alerts in 10 cities   \n",
       "3971  Denmark wants Geneva Convention debate if Euro...   \n",
       "3972  The Irish Government has taken unprecedented a...   \n",
       "3973  Journalist reveals Erdoan imprisoned him for e...   \n",
       "3974  Russia denies 'absurd' claims that air strikes...   \n",
       "\n",
       "                                                  Top19  \\\n",
       "0                  The difference between men and women   \n",
       "1     Irish court halts IRA man's extradition to Nor...   \n",
       "2                             Raja Casablanca (Morocco)   \n",
       "3                                    Christmas glitches   \n",
       "4                      From Sleepy Hollow to Greeneland   \n",
       "...                                                 ...   \n",
       "3970  US planned East Berlin's 'systematic destructi...   \n",
       "3971  David Cameron is heckled during visit to flood...   \n",
       "3972  Saudi Arabia to raise domestic petrol prices b...   \n",
       "3973  Russian Moon base plan falls victim to budget ...   \n",
       "3974             Web attack knocks BBC websites offline   \n",
       "\n",
       "                                                  Top20  \\\n",
       "0                   Sara Denver, nurse turned solicitor   \n",
       "1     Burundi peace initiative fades after rebels re...   \n",
       "2                                  Corinthians (Brazil)   \n",
       "3     Upending a table, Chopping a line and Scoring ...   \n",
       "4                 Blunkett outlines vision for over 11s   \n",
       "...                                                 ...   \n",
       "3970  Qatar World Cup 2022 workers 'earning as littl...   \n",
       "3971  British Army Is Deployed as Flooding Submerges...   \n",
       "3972  Saudi Arabia hikes petrol prices by 40% at the...   \n",
       "3973  Belgium, Netherlands to exchange territory  wi...   \n",
       "3974   Iran says any U.S. sanctions on missiles illegal   \n",
       "\n",
       "                                                  Top21  \\\n",
       "0        Diana's landmine crusade put Tories in a panic   \n",
       "1                  PE points the way forward to the ECB   \n",
       "2                                    Tony's pet project   \n",
       "3      Scientific evidence 'unreliable', defence claims   \n",
       "4     Embattled Dobson attacks 'play now, pay later'...   \n",
       "...                                                 ...   \n",
       "3970  Thai Court Sentences Two to Death for Killings...   \n",
       "3971  Brazils reluctance to accept an Israeli ambass...   \n",
       "3972  World Health Organization declares Guinea Ebol...   \n",
       "3973  North Korea says top official Kim Yang-gon kil...   \n",
       "3974  Maternity Benefits: Indian Government plans to...   \n",
       "\n",
       "                                                  Top22  \\\n",
       "0     Yeltsin's resignation caught opposition flat-f...   \n",
       "1     Campaigners keep up pressure on Nazi war crime...   \n",
       "2                               Al Nassr (Saudi Arabia)   \n",
       "3        Fusco wins judicial review in extradition case   \n",
       "4                                     Doom and the Dome   \n",
       "...                                                 ...   \n",
       "3970  Germany Pays to Halt Danish Wind Power to Prot...   \n",
       "3971  Russian GDP down 4.0 percent year-on-year in N...   \n",
       "3972  Hacker group Anonymous is helping the 'Making ...   \n",
       "3973  Putin's Son-in-Law Boosted by $1.75 Bln Russia...   \n",
       "3974  'Rat on a plane' forces Air India flight to tu...   \n",
       "\n",
       "                                                  Top23  \\\n",
       "0                                      Russian roulette   \n",
       "1                                        Jane Ratcliffe   \n",
       "2                                     Ideal Holmes show   \n",
       "3                         Rebels thwart Russian advance   \n",
       "4                       What is the north-south divide?   \n",
       "...                                                 ...   \n",
       "3970  Egypts President Sisi Urges Islamic Scholars t...   \n",
       "3971  Syria and Iraq: Ethnic cleansing by Sunni and ...   \n",
       "3972             Russia 'has removed uranium from Iran'   \n",
       "3973     An orgasm a day could cut prostate cancer risk   \n",
       "3974  Philippines to join China-backed AIIB infrastr...   \n",
       "\n",
       "                                                  Top24  \\\n",
       "0                                              Sold out   \n",
       "1     Yet more things you wouldn't know without the ...   \n",
       "2                  Pinochet leaves hospital after tests   \n",
       "3                  Blair orders shake-up of failing NHS   \n",
       "4                             Aitken released from jail   \n",
       "...                                                 ...   \n",
       "3970  Russia Rejects Amnesty Internationals Report o...   \n",
       "3971          Deadly car bomb explodes at Kabul airport   \n",
       "3972  China threatens to shoot down Australian aircr...   \n",
       "3973  Germans claim Belgian nuclear reactors are \"fa...   \n",
       "3974  ESPN invites five FIFA presidential candidates...   \n",
       "\n",
       "                                                  Top25  \n",
       "0                                    Recovering a title  \n",
       "1                          Millennium bug fails to bite  \n",
       "2                                          Useful links  \n",
       "3                           Lessons of law's hard heart  \n",
       "4                                            Gone aloft  \n",
       "...                                                 ...  \n",
       "3970  Cameron, Osborne and Murdoch back together at ...  \n",
       "3971  Experiment in Germany tests the idea of an 'em...  \n",
       "3972  Israel warns Brazil to accept its settler amba...  \n",
       "3973  UK Sperm Bank Doesn't Accept Donors with Dysle...  \n",
       "3974  Hamas to keep Palestinians from ringing in New...  \n",
       "\n",
       "[3975 rows x 27 columns]"
      ]
     },
     "execution_count": 151,
     "metadata": {},
     "output_type": "execute_result"
    }
   ],
   "source": [
    "train1"
   ]
  },
  {
   "cell_type": "code",
   "execution_count": 152,
   "id": "a1900138",
   "metadata": {},
   "outputs": [],
   "source": [
    "train=train1.iloc[:,2:27]"
   ]
  },
  {
   "cell_type": "code",
   "execution_count": 153,
   "id": "6bb556c4",
   "metadata": {},
   "outputs": [],
   "source": [
    "test=test1.iloc[:,2:27]"
   ]
  },
  {
   "cell_type": "code",
   "execution_count": 154,
   "id": "68c0c9f9",
   "metadata": {},
   "outputs": [],
   "source": [
    "train_label=train1.Label"
   ]
  },
  {
   "cell_type": "code",
   "execution_count": 155,
   "id": "7af3468e",
   "metadata": {},
   "outputs": [],
   "source": [
    "test_label=test1.Label"
   ]
  },
  {
   "cell_type": "markdown",
   "id": "626d0eb8",
   "metadata": {},
   "source": [
    "# Data Preparation"
   ]
  },
  {
   "cell_type": "markdown",
   "id": "177ca8e4",
   "metadata": {},
   "source": [
    "## Removing Punctuations"
   ]
  },
  {
   "cell_type": "code",
   "execution_count": 156,
   "id": "da4afe6a",
   "metadata": {},
   "outputs": [],
   "source": [
    "train.replace(to_replace=\"[^a-zA-Z]\",value=' ',regex=True,inplace=True)"
   ]
  },
  {
   "cell_type": "code",
   "execution_count": 157,
   "id": "de0f3684",
   "metadata": {},
   "outputs": [],
   "source": [
    "test.replace(to_replace=\"[^a-zA-Z]\",value=' ',regex=True,inplace=True)"
   ]
  },
  {
   "cell_type": "markdown",
   "id": "0272c609",
   "metadata": {},
   "source": [
    "## Converting to Lower Case"
   ]
  },
  {
   "cell_type": "code",
   "execution_count": 158,
   "id": "1036781b",
   "metadata": {},
   "outputs": [],
   "source": [
    "list1=[]\n",
    "for i in range(0,25):\n",
    "    list1.append(i)"
   ]
  },
  {
   "cell_type": "code",
   "execution_count": 159,
   "id": "a3ca76e2",
   "metadata": {},
   "outputs": [],
   "source": [
    "train.columns=list1"
   ]
  },
  {
   "cell_type": "code",
   "execution_count": 160,
   "id": "3672a4d3",
   "metadata": {},
   "outputs": [],
   "source": [
    "test.columns=list1"
   ]
  },
  {
   "cell_type": "code",
   "execution_count": 161,
   "id": "dab2b58f",
   "metadata": {},
   "outputs": [],
   "source": [
    "for i in range(0,25):\n",
    "    train[i]=train[i].str.lower()\n",
    "    test[i]=test[i].str.lower()"
   ]
  },
  {
   "cell_type": "markdown",
   "id": "8d470fae",
   "metadata": {},
   "source": [
    "## Combining Headlines"
   ]
  },
  {
   "cell_type": "code",
   "execution_count": 162,
   "id": "81d3722e",
   "metadata": {},
   "outputs": [],
   "source": [
    "headlines = []\n",
    "for row in range(0,len(train.index)):\n",
    "    headlines.append(' '.join(str(x) for x in train.iloc[row,0:25]))"
   ]
  },
  {
   "cell_type": "code",
   "execution_count": 163,
   "id": "0d497851",
   "metadata": {},
   "outputs": [
    {
     "data": {
      "text/plain": [
       "'a  hindrance to operations   extracts from the leaked reports scorecard hughes  instant hit buoys blues jack gets his skates on at ice cold alex chaos as maracana builds up for united depleted leicester prevail as elliott spoils everton s party hungry spurs sense rich pickings gunners so wide of an easy target derby raise a glass to strupar s debut double southgate strikes  leeds pay the penalty hammers hand robson a youthful lesson saints party like it s      wear wolves have turned into lambs stump mike catches testy gough s taunt langer escapes to hit     flintoff injury piles on woe for england hunters threaten jospin with new battle of the somme kohl s successor drawn into scandal the difference between men and women sara denver  nurse turned solicitor diana s landmine crusade put tories in a panic yeltsin s resignation caught opposition flat footed russian roulette sold out recovering a title'"
      ]
     },
     "execution_count": 163,
     "metadata": {},
     "output_type": "execute_result"
    }
   ],
   "source": [
    "headlines[0]"
   ]
  },
  {
   "cell_type": "code",
   "execution_count": 143,
   "id": "cd579041",
   "metadata": {},
   "outputs": [
    {
     "data": {
      "text/plain": [
       "0     a  hindrance to operations   extracts from the...\n",
       "1                                             scorecard\n",
       "2                       hughes  instant hit buoys blues\n",
       "3              jack gets his skates on at ice cold alex\n",
       "4                chaos as maracana builds up for united\n",
       "5     depleted leicester prevail as elliott spoils e...\n",
       "6                      hungry spurs sense rich pickings\n",
       "7                     gunners so wide of an easy target\n",
       "8         derby raise a glass to strupar s debut double\n",
       "9              southgate strikes  leeds pay the penalty\n",
       "10                hammers hand robson a youthful lesson\n",
       "11                          saints party like it s     \n",
       "12                   wear wolves have turned into lambs\n",
       "13               stump mike catches testy gough s taunt\n",
       "14                            langer escapes to hit    \n",
       "15             flintoff injury piles on woe for england\n",
       "16    hunters threaten jospin with new battle of the...\n",
       "17                  kohl s successor drawn into scandal\n",
       "18                 the difference between men and women\n",
       "19                  sara denver  nurse turned solicitor\n",
       "20       diana s landmine crusade put tories in a panic\n",
       "21    yeltsin s resignation caught opposition flat f...\n",
       "22                                     russian roulette\n",
       "23                                             sold out\n",
       "24                                   recovering a title\n",
       "Name: 0, dtype: object"
      ]
     },
     "execution_count": 143,
     "metadata": {},
     "output_type": "execute_result"
    }
   ],
   "source": [
    "train.iloc[0,0:25]"
   ]
  },
  {
   "cell_type": "markdown",
   "id": "f12a0994",
   "metadata": {},
   "source": [
    "## Lemmatizing and removing stopwords"
   ]
  },
  {
   "cell_type": "code",
   "execution_count": 167,
   "id": "2ffc272d",
   "metadata": {},
   "outputs": [],
   "source": [
    "import nltk\n",
    "from nltk.stem import WordNetLemmatizer\n",
    "from nltk.corpus import stopwords"
   ]
  },
  {
   "cell_type": "code",
   "execution_count": 168,
   "id": "21d0feb1",
   "metadata": {},
   "outputs": [
    {
     "name": "stderr",
     "output_type": "stream",
     "text": [
      "[nltk_data] Error loading punkt: <urlopen error [WinError 10054] An\n",
      "[nltk_data]     existing connection was forcibly closed by the remote\n",
      "[nltk_data]     host>\n"
     ]
    },
    {
     "data": {
      "text/plain": [
       "False"
      ]
     },
     "execution_count": 168,
     "metadata": {},
     "output_type": "execute_result"
    }
   ],
   "source": [
    "nltk.download('punkt')"
   ]
  },
  {
   "cell_type": "code",
   "execution_count": 169,
   "id": "f9720ce6",
   "metadata": {},
   "outputs": [
    {
     "name": "stderr",
     "output_type": "stream",
     "text": [
      "[nltk_data] Error loading stopwords: <urlopen error [WinError 10054]\n",
      "[nltk_data]     An existing connection was forcibly closed by the\n",
      "[nltk_data]     remote host>\n"
     ]
    },
    {
     "data": {
      "text/plain": [
       "False"
      ]
     },
     "execution_count": 169,
     "metadata": {},
     "output_type": "execute_result"
    }
   ],
   "source": [
    "nltk.download('stopwords')"
   ]
  },
  {
   "cell_type": "code",
   "execution_count": 170,
   "id": "68830913",
   "metadata": {},
   "outputs": [
    {
     "name": "stderr",
     "output_type": "stream",
     "text": [
      "[nltk_data] Error loading wordnet: <urlopen error [WinError 10054] An\n",
      "[nltk_data]     existing connection was forcibly closed by the remote\n",
      "[nltk_data]     host>\n"
     ]
    },
    {
     "data": {
      "text/plain": [
       "False"
      ]
     },
     "execution_count": 170,
     "metadata": {},
     "output_type": "execute_result"
    }
   ],
   "source": [
    "nltk.download('wordnet')"
   ]
  },
  {
   "cell_type": "code",
   "execution_count": 171,
   "id": "bee9bf4f",
   "metadata": {},
   "outputs": [
    {
     "name": "stderr",
     "output_type": "stream",
     "text": [
      "[nltk_data] Error loading omw-1.4: <urlopen error [WinError 10054] An\n",
      "[nltk_data]     existing connection was forcibly closed by the remote\n",
      "[nltk_data]     host>\n"
     ]
    },
    {
     "data": {
      "text/plain": [
       "False"
      ]
     },
     "execution_count": 171,
     "metadata": {},
     "output_type": "execute_result"
    }
   ],
   "source": [
    "nltk.download('omw-1.4')"
   ]
  },
  {
   "cell_type": "code",
   "execution_count": 172,
   "id": "b800f38f",
   "metadata": {},
   "outputs": [],
   "source": [
    "lemmatizer = WordNetLemmatizer()"
   ]
  },
  {
   "cell_type": "code",
   "execution_count": 173,
   "id": "b3402fe5",
   "metadata": {},
   "outputs": [],
   "source": [
    "for i in range(0,len(headlines)):\n",
    "    words=nltk.word_tokenize(headlines[i])\n",
    "    words=[lemmatizer.lemmatize(word) for word in words if word not in set(stopwords.words('english'))]\n",
    "    headlines[i]=' '.join(words)"
   ]
  },
  {
   "cell_type": "code",
   "execution_count": 174,
   "id": "47ef14e0",
   "metadata": {},
   "outputs": [
    {
     "data": {
      "text/plain": [
       "'hindrance operation extract leaked report scorecard hughes instant hit buoy blue jack get skate ice cold alex chaos maracana build united depleted leicester prevail elliott spoil everton party hungry spur sense rich picking gunner wide easy target derby raise glass strupar debut double southgate strike leeds pay penalty hammer hand robson youthful lesson saint party like wear wolf turned lamb stump mike catch testy gough taunt langer escape hit flintoff injury pile woe england hunter threaten jospin new battle somme kohl successor drawn scandal difference men woman sara denver nurse turned solicitor diana landmine crusade put tory panic yeltsin resignation caught opposition flat footed russian roulette sold recovering title'"
      ]
     },
     "execution_count": 174,
     "metadata": {},
     "output_type": "execute_result"
    }
   ],
   "source": [
    "headlines[0]"
   ]
  },
  {
   "cell_type": "markdown",
   "id": "6fe4f192",
   "metadata": {},
   "source": [
    "## Implementing bag of words"
   ]
  },
  {
   "cell_type": "code",
   "execution_count": 175,
   "id": "db32a7aa",
   "metadata": {},
   "outputs": [],
   "source": [
    "from sklearn.feature_extraction.text import CountVectorizer"
   ]
  },
  {
   "cell_type": "code",
   "execution_count": 176,
   "id": "00c80582",
   "metadata": {},
   "outputs": [],
   "source": [
    "countvector=CountVectorizer(ngram_range=(2,2))\n",
    "traindataset=countvector.fit_transform(headlines)"
   ]
  },
  {
   "cell_type": "code",
   "execution_count": 177,
   "id": "fad5161c",
   "metadata": {},
   "outputs": [
    {
     "data": {
      "text/plain": [
       "<3975x571862 sparse matrix of type '<class 'numpy.int64'>'\n",
       "\twith 761916 stored elements in Compressed Sparse Row format>"
      ]
     },
     "execution_count": 177,
     "metadata": {},
     "output_type": "execute_result"
    }
   ],
   "source": [
    "traindataset"
   ]
  },
  {
   "cell_type": "markdown",
   "id": "76635b85",
   "metadata": {},
   "source": [
    "## Implementing RandomForest Classifier"
   ]
  },
  {
   "cell_type": "code",
   "execution_count": 178,
   "id": "b3784b63",
   "metadata": {},
   "outputs": [],
   "source": [
    "from sklearn.ensemble import RandomForestClassifier"
   ]
  },
  {
   "cell_type": "code",
   "execution_count": 193,
   "id": "49e3cc38",
   "metadata": {},
   "outputs": [
    {
     "data": {
      "text/plain": [
       "RandomForestClassifier(criterion='entropy', n_estimators=800)"
      ]
     },
     "execution_count": 193,
     "metadata": {},
     "output_type": "execute_result"
    }
   ],
   "source": [
    "randomclassifier=RandomForestClassifier(n_estimators=800,criterion='entropy')\n",
    "randomclassifier.fit(traindataset,train_label)"
   ]
  },
  {
   "cell_type": "markdown",
   "id": "19d640d2",
   "metadata": {},
   "source": [
    "## Model prediction and validation"
   ]
  },
  {
   "cell_type": "code",
   "execution_count": 194,
   "id": "e2c4e75d",
   "metadata": {},
   "outputs": [],
   "source": [
    "test_transform= []\n",
    "for row in range(0,len(test.index)):\n",
    "    test_transform.append(' '.join(str(x) for x in test.iloc[row,0:25]))\n",
    "test_dataset = countvector.transform(test_transform)\n",
    "predictions = randomclassifier.predict(test_dataset)"
   ]
  },
  {
   "cell_type": "code",
   "execution_count": 195,
   "id": "85903cf5",
   "metadata": {},
   "outputs": [
    {
     "data": {
      "text/plain": [
       "378"
      ]
     },
     "execution_count": 195,
     "metadata": {},
     "output_type": "execute_result"
    }
   ],
   "source": [
    "len(test_transform)"
   ]
  },
  {
   "cell_type": "code",
   "execution_count": 196,
   "id": "47be117d",
   "metadata": {},
   "outputs": [
    {
     "data": {
      "text/plain": [
       "'most cases of cancer are the result of sheer bad luck rather than unhealthy lifestyles  diet or even inherited genes  new research suggests  random mutations that occur in dna when cells divide are responsible for two thirds of adult cancers across a wide range of tissues  iran dismissed united states efforts to fight islamic state as a ploy to advance u s  policies in the region   the reality is that the united states is not acting to eliminate daesh  they are not even interested in weakening daesh  they are only interested in managing it  poll  one in   germans would join anti muslim marches uk royal family s prince andrew named in us lawsuit over underage sex allegations some    asylum seekers refused to leave the bus when they arrived at their destination in rural northern sweden  demanding that they be taken back to malm or  some big city   pakistani boat blows self up after india navy chase  all four people on board the vessel from near the pakistani port city of karachi are believed to have been killed in the dramatic episode in the arabian sea on new year s eve  according to india s defence ministry  sweden hit by third mosque arson attack in a week     cars set alight during french new year salaries for top ceos rose twice as fast as average canadian since recession  study norway violated equal pay law  judge says  judge finds consulate employee was unjustly paid         less than her male counterpart imam wants radical recruiters of muslim youth in canada identified and dealt with saudi arabia beheaded    people in       the most in years  a living hell  for slaves on remote south korean islands   slavery thrives on this chain of rural islands off south korea s rugged southwest coast  nurtured by a long history of exploitation and the demands of trying to squeeze a living from the sea  worlds     richest get richer  adding    bn in      rental car stereos infringe copyright  music rights group says ukrainian minister threatens tv channel with closure for airing russian entertainers palestinian president mahmoud abbas has entered into his most serious confrontation yet with israel by signing onto the international criminal court  his decision on wednesday gives the court jurisdiction over crimes committed in palestinian lands  israeli security center publishes names of    killed terrorists  concealed by hamas  the year      was the deadliest year yet in syria s four year conflict  with over        killed a secret underground complex built by the nazis that may have been used for the development of wmds  including a nuclear bomb  has been uncovered in austria  restrictions on web freedom a major global issue in      austrian journalist erich mchel delivered a presentation in hamburg at the annual meeting of the chaos computer club on monday december     detailing the various locations where the us nsa has been actively collecting and processing electronic intelligence in vienna  thousands of ukraine nationalists march in kiev chinas new years resolution  no more harvesting executed prisoners organs authorities pull plug on russia s last politically independent tv station'"
      ]
     },
     "execution_count": 196,
     "metadata": {},
     "output_type": "execute_result"
    }
   ],
   "source": [
    "test_transform[0]"
   ]
  },
  {
   "cell_type": "code",
   "execution_count": 197,
   "id": "7e12986f",
   "metadata": {},
   "outputs": [],
   "source": [
    "for i in range(0,len(test_transform)):\n",
    "    words=nltk.word_tokenize(test_transform[i])\n",
    "    words=[lemmatizer.lemmatize(word) for word in words if word not in set(stopwords.words('english'))]\n",
    "    test_transform[i]=' '.join(words)"
   ]
  },
  {
   "cell_type": "code",
   "execution_count": 198,
   "id": "24d2a179",
   "metadata": {},
   "outputs": [
    {
     "data": {
      "text/plain": [
       "'case cancer result sheer bad luck rather unhealthy lifestyle diet even inherited gene new research suggests random mutation occur dna cell divide responsible two third adult cancer across wide range tissue iran dismissed united state effort fight islamic state ploy advance u policy region reality united state acting eliminate daesh even interested weakening daesh interested managing poll one german would join anti muslim march uk royal family prince andrew named u lawsuit underage sex allegation asylum seeker refused leave bus arrived destination rural northern sweden demanding taken back malm big city pakistani boat blow self india navy chase four people board vessel near pakistani port city karachi believed killed dramatic episode arabian sea new year eve according india defence ministry sweden hit third mosque arson attack week car set alight french new year salary top ceo rose twice fast average canadian since recession study norway violated equal pay law judge say judge find consulate employee unjustly paid le male counterpart imam want radical recruiter muslim youth canada identified dealt saudi arabia beheaded people year living hell slave remote south korean island slavery thrives chain rural island south korea rugged southwest coast nurtured long history exploitation demand trying squeeze living sea world richest get richer adding bn rental car stereo infringe copyright music right group say ukrainian minister threatens tv channel closure airing russian entertainer palestinian president mahmoud abbas entered serious confrontation yet israel signing onto international criminal court decision wednesday give court jurisdiction crime committed palestinian land israeli security center publishes name killed terrorist concealed hamas year deadliest year yet syria four year conflict killed secret underground complex built nazi may used development wmd including nuclear bomb uncovered austria restriction web freedom major global issue austrian journalist erich mchel delivered presentation hamburg annual meeting chaos computer club monday december detailing various location u nsa actively collecting processing electronic intelligence vienna thousand ukraine nationalist march kiev china new year resolution harvesting executed prisoner organ authority pull plug russia last politically independent tv station'"
      ]
     },
     "execution_count": 198,
     "metadata": {},
     "output_type": "execute_result"
    }
   ],
   "source": [
    "test_transform[0]"
   ]
  },
  {
   "cell_type": "code",
   "execution_count": 189,
   "id": "192ae46c",
   "metadata": {},
   "outputs": [],
   "source": [
    "## Import library to check accuracy\n",
    "from sklearn.metrics import classification_report,confusion_matrix,accuracy_score"
   ]
  },
  {
   "cell_type": "code",
   "execution_count": 192,
   "id": "3417efef",
   "metadata": {},
   "outputs": [
    {
     "name": "stdout",
     "output_type": "stream",
     "text": [
      "[[ 44 142]\n",
      " [  0 192]]\n",
      "0.6243386243386243\n",
      "              precision    recall  f1-score   support\n",
      "\n",
      "           0       1.00      0.24      0.38       186\n",
      "           1       0.57      1.00      0.73       192\n",
      "\n",
      "    accuracy                           0.62       378\n",
      "   macro avg       0.79      0.62      0.56       378\n",
      "weighted avg       0.78      0.62      0.56       378\n",
      "\n"
     ]
    }
   ],
   "source": [
    "matrix=confusion_matrix(test_label,predictions)\n",
    "print(matrix)\n",
    "score=accuracy_score(test_label,predictions)\n",
    "print(score)\n",
    "report=classification_report(test_label,predictions)\n",
    "print(report)"
   ]
  },
  {
   "cell_type": "code",
   "execution_count": 199,
   "id": "f2c59f21",
   "metadata": {},
   "outputs": [
    {
     "name": "stdout",
     "output_type": "stream",
     "text": [
      "[[ 41 145]\n",
      " [  0 192]]\n",
      "0.6164021164021164\n",
      "              precision    recall  f1-score   support\n",
      "\n",
      "           0       1.00      0.22      0.36       186\n",
      "           1       0.57      1.00      0.73       192\n",
      "\n",
      "    accuracy                           0.62       378\n",
      "   macro avg       0.78      0.61      0.54       378\n",
      "weighted avg       0.78      0.62      0.55       378\n",
      "\n"
     ]
    }
   ],
   "source": [
    "matrix=confusion_matrix(test_label,predictions)\n",
    "print(matrix)\n",
    "score=accuracy_score(test_label,predictions)\n",
    "print(score)\n",
    "report=classification_report(test_label,predictions)\n",
    "print(report)"
   ]
  },
  {
   "cell_type": "markdown",
   "id": "98ed4f03",
   "metadata": {},
   "source": [
    "## Using GridSearchCV"
   ]
  },
  {
   "cell_type": "code",
   "execution_count": 218,
   "id": "bbd6d27f",
   "metadata": {},
   "outputs": [],
   "source": [
    "param_grid = { \n",
    "    'n_estimators': [200, 500]\n",
    "}"
   ]
  },
  {
   "cell_type": "code",
   "execution_count": 219,
   "id": "55f4fa3e",
   "metadata": {},
   "outputs": [],
   "source": [
    "from sklearn.model_selection import GridSearchCV"
   ]
  },
  {
   "cell_type": "code",
   "execution_count": 220,
   "id": "4f513e91",
   "metadata": {},
   "outputs": [],
   "source": [
    "CV_rfc = GridSearchCV(estimator=randomclassifier, param_grid=param_grid, cv= 3)"
   ]
  },
  {
   "cell_type": "code",
   "execution_count": 221,
   "id": "b159374e",
   "metadata": {},
   "outputs": [
    {
     "data": {
      "text/plain": [
       "GridSearchCV(cv=3,\n",
       "             estimator=RandomForestClassifier(criterion='entropy',\n",
       "                                              n_estimators=800),\n",
       "             param_grid={'n_estimators': [200, 500]})"
      ]
     },
     "execution_count": 221,
     "metadata": {},
     "output_type": "execute_result"
    }
   ],
   "source": [
    "CV_rfc.fit(traindataset,train_label)"
   ]
  },
  {
   "cell_type": "code",
   "execution_count": 222,
   "id": "9bd0e8f2",
   "metadata": {},
   "outputs": [
    {
     "data": {
      "text/plain": [
       "0.5255345911949686"
      ]
     },
     "execution_count": 222,
     "metadata": {},
     "output_type": "execute_result"
    }
   ],
   "source": [
    "CV_rfc.best_score_"
   ]
  },
  {
   "cell_type": "code",
   "execution_count": 223,
   "id": "27fd917e",
   "metadata": {},
   "outputs": [
    {
     "data": {
      "text/plain": [
       "RandomForestClassifier(criterion='entropy', n_estimators=200)"
      ]
     },
     "execution_count": 223,
     "metadata": {},
     "output_type": "execute_result"
    }
   ],
   "source": [
    "CV_rfc.best_estimator_"
   ]
  },
  {
   "cell_type": "code",
   "execution_count": 224,
   "id": "19bddbdf",
   "metadata": {},
   "outputs": [],
   "source": [
    "randomclassifier=RandomForestClassifier(n_estimators=200,criterion='entropy')"
   ]
  },
  {
   "cell_type": "code",
   "execution_count": 225,
   "id": "e4ddc296",
   "metadata": {},
   "outputs": [
    {
     "data": {
      "text/plain": [
       "RandomForestClassifier(criterion='entropy', n_estimators=200)"
      ]
     },
     "execution_count": 225,
     "metadata": {},
     "output_type": "execute_result"
    }
   ],
   "source": [
    "randomclassifier.fit(traindataset,train_label)"
   ]
  },
  {
   "cell_type": "code",
   "execution_count": 226,
   "id": "f1534abb",
   "metadata": {},
   "outputs": [
    {
     "name": "stdout",
     "output_type": "stream",
     "text": [
      "[[ 41 145]\n",
      " [  0 192]]\n",
      "0.6164021164021164\n",
      "              precision    recall  f1-score   support\n",
      "\n",
      "           0       1.00      0.22      0.36       186\n",
      "           1       0.57      1.00      0.73       192\n",
      "\n",
      "    accuracy                           0.62       378\n",
      "   macro avg       0.78      0.61      0.54       378\n",
      "weighted avg       0.78      0.62      0.55       378\n",
      "\n"
     ]
    }
   ],
   "source": [
    "matrix=confusion_matrix(test_label,predictions)\n",
    "print(matrix)\n",
    "score=accuracy_score(test_label,predictions)\n",
    "print(score)\n",
    "report=classification_report(test_label,predictions)\n",
    "print(report)"
   ]
  },
  {
   "cell_type": "code",
   "execution_count": null,
   "id": "51cfd0ef",
   "metadata": {},
   "outputs": [],
   "source": []
  }
 ],
 "metadata": {
  "kernelspec": {
   "display_name": "Python 3 (ipykernel)",
   "language": "python",
   "name": "python3"
  },
  "language_info": {
   "codemirror_mode": {
    "name": "ipython",
    "version": 3
   },
   "file_extension": ".py",
   "mimetype": "text/x-python",
   "name": "python",
   "nbconvert_exporter": "python",
   "pygments_lexer": "ipython3",
   "version": "3.9.13"
  }
 },
 "nbformat": 4,
 "nbformat_minor": 5
}
